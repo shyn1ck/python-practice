{
 "cells": [
  {
   "cell_type": "markdown",
   "metadata": {
    "id": "Nqa_aLzLJ7PT"
   },
   "source": [
    "## Домашнее задание. День 1"
   ]
  },
  {
   "cell_type": "markdown",
   "metadata": {
    "id": "8rdbANMOJ7Qf"
   },
   "source": [
    "#### Задача 1.\n",
    "\n",
    "1) Создать две переменные, `name` и `age`, и присвоить им значения.\n",
    "2) Напечатайте сообщение, используя эти переменные, например: «Меня зовут [имя], мне [возраст] лет»."
   ]
  },
  {
   "cell_type": "code",
   "metadata": {
    "id": "kldguVjkJ7Qk",
    "ExecuteTime": {
     "end_time": "2024-10-24T10:02:15.865731Z",
     "start_time": "2024-10-24T10:02:15.859435Z"
    }
   },
   "source": [
    "# Решение\n",
    "name = \"shyn1ck\"\n",
    "age = 21\n",
    "print(f\"Меня зовут {name}, мне {age} лет.\")"
   ],
   "outputs": [
    {
     "name": "stdout",
     "output_type": "stream",
     "text": [
      "Меня зовут shyn1ck, мне 21 лет.\n"
     ]
    }
   ],
   "execution_count": 1
  },
  {
   "cell_type": "markdown",
   "metadata": {
    "id": "y2kO9-X5J7Qr"
   },
   "source": [
    "#### Задача 2.\n",
    "\n",
    "1) Создайте список чисел до 10.\n",
    "2) Используйте нарезку списка, чтобы напечатать первые три элемента и последние три элемента списка."
   ]
  },
  {
   "cell_type": "code",
   "metadata": {
    "id": "39M1_oR8J7Qu",
    "ExecuteTime": {
     "end_time": "2024-10-24T10:02:32.049898Z",
     "start_time": "2024-10-24T10:02:32.042612Z"
    }
   },
   "source": [
    "# Решение\n",
    "numbers = list(range(10))  # Список чисел от 0 до 9\n",
    "print(\"Первые три элемента:\", numbers[:3])\n",
    "print(\"Последние три элемента:\", numbers[-3:])\n"
   ],
   "outputs": [
    {
     "name": "stdout",
     "output_type": "stream",
     "text": [
      "Первые три элемента: [0, 1, 2]\n",
      "Последние три элемента: [7, 8, 9]\n"
     ]
    }
   ],
   "execution_count": 2
  },
  {
   "cell_type": "markdown",
   "metadata": {
    "id": "0Z9mkpomJ7Qx"
   },
   "source": [
    "#### Задача 3.\n",
    "\n",
    "1) Создайте словарь с именем `student` с ключами: `имя`, `возраст` и `оценка`.\n",
    "2) запоните значения к предыдущим ключам вашими данными\n",
    "3) Добавьте новый ключ `subject` со значением `math`.\n",
    "4) Распечатайте обновленный словарь."
   ]
  },
  {
   "cell_type": "code",
   "metadata": {
    "id": "JdqsqDN9J7Q0",
    "ExecuteTime": {
     "end_time": "2024-10-24T10:10:25.770406Z",
     "start_time": "2024-10-24T10:10:25.749947Z"
    }
   },
   "source": [
    "# Решение\n",
    "student = {\"имя\": \"shyn1ck\", \"возраст\": 20, \"оценка\": \"A\"}\n",
    "\n",
    "print(student)\n",
    "# Добавление нового ключа\n",
    "student[\"subject\"] = \"math\"\n",
    "print(student)\n"
   ],
   "outputs": [
    {
     "name": "stdout",
     "output_type": "stream",
     "text": [
      "{'имя': 'shyn1ck', 'возраст': 20, 'оценка': 'A'}\n",
      "{'имя': 'shyn1ck', 'возраст': 20, 'оценка': 'A', 'subject': 'math'}\n"
     ]
    }
   ],
   "execution_count": 7
  },
  {
   "cell_type": "markdown",
   "metadata": {
    "id": "Cad0y6iYJ7Q4"
   },
   "source": [
    "#### Задача 4.\n",
    "\n",
    "1) Создайте два набора, `set1` и `set2`, с некоторыми общими элементами.\n",
    "2) Выведите объединение и пересечение двух наборов."
   ]
  },
  {
   "cell_type": "code",
   "metadata": {
    "id": "9Pu_ejjTJ7Q8",
    "ExecuteTime": {
     "end_time": "2024-10-24T10:10:31.472765Z",
     "start_time": "2024-10-24T10:10:31.459465Z"
    }
   },
   "source": [
    "# Решение\n",
    "set1 = {1, 2, 3, 4, 5}\n",
    "set2 = {4, 5, 6, 7, 8}\n",
    "union = set1.union(set2)\n",
    "intersection = set1.intersection(set2)\n",
    "\n",
    "print(\"Объединение:\", union)\n",
    "print(\"Пересечение:\", intersection)"
   ],
   "outputs": [
    {
     "name": "stdout",
     "output_type": "stream",
     "text": [
      "Объединение: {1, 2, 3, 4, 5, 6, 7, 8}\n",
      "Пересечение: {4, 5}\n"
     ]
    }
   ],
   "execution_count": 8
  },
  {
   "cell_type": "markdown",
   "metadata": {
    "id": "tBFcL2S_J7Q-"
   },
   "source": [
    "#### Задача 5.\n",
    "\n",
    "1) Создайте словарь, представляющий цены товаров в магазине.\n",
    "2) Используйте цикл для перебора товаров и распечатайте каждый товар вместе с его ценой.\n"
   ]
  },
  {
   "cell_type": "code",
   "metadata": {
    "id": "KYHMhDwxJ7RB",
    "ExecuteTime": {
     "end_time": "2024-10-24T10:10:36.166585Z",
     "start_time": "2024-10-24T10:10:36.156637Z"
    }
   },
   "source": [
    "# Решение\n",
    "prices = {\n",
    "    \"яблоко\": 50,\n",
    "    \"банан\": 30,\n",
    "    \"апельсин\": 40\n",
    "}\n",
    "\n",
    "for item, price in prices.items():\n",
    "    print(f\"{item}: {price} сум\")"
   ],
   "outputs": [
    {
     "name": "stdout",
     "output_type": "stream",
     "text": [
      "яблоко: 50 сум\n",
      "банан: 30 сум\n",
      "апельсин: 40 сум\n"
     ]
    }
   ],
   "execution_count": 9
  },
  {
   "cell_type": "markdown",
   "metadata": {
    "id": "SvYMUmveJ7RD"
   },
   "source": [
    "#### Задача 6.\n",
    "\n",
    "1) Напишите программу, которая принимает два числа в качестве вводимых пользователем данных `input`.\n",
    "2) Выполните основные арифметические операции (сложение, вычитание, умножение, деление) с числами.\n"
   ]
  },
  {
   "cell_type": "code",
   "metadata": {
    "id": "_SV4OrY9J7RE",
    "ExecuteTime": {
     "end_time": "2024-10-24T10:10:42.648888Z",
     "start_time": "2024-10-24T10:10:38.104885Z"
    }
   },
   "source": [
    "# Решение\n",
    "num1 = float(input(\"Введите первое число: \"))\n",
    "num2 = float(input(\"Введите второе число: \"))\n",
    "\n",
    "print(\"Сложение:\", num1 + num2)\n",
    "print(\"Вычитание:\", num1 - num2)\n",
    "print(\"Умножение:\", num1 * num2)\n",
    "print(\"Деление:\", num1 / num2 if num2 != 0 else \"На ноль делить нельзя!\")"
   ],
   "outputs": [
    {
     "name": "stdout",
     "output_type": "stream",
     "text": [
      "Сложение: 3.0\n",
      "Вычитание: 1.0\n",
      "Умножение: 2.0\n",
      "Деление: 2.0\n"
     ]
    }
   ],
   "execution_count": 10
  }
 ],
 "metadata": {
  "kernelspec": {
   "display_name": "Python 3",
   "language": "python",
   "name": "python3"
  },
  "language_info": {
   "codemirror_mode": {
    "name": "ipython",
    "version": 3
   },
   "file_extension": ".py",
   "mimetype": "text/x-python",
   "name": "python",
   "nbconvert_exporter": "python",
   "pygments_lexer": "ipython3",
   "version": "3.12.1"
  },
  "orig_nbformat": 4,
  "colab": {
   "provenance": [
    {
     "file_id": "1LmHsb8kD9kcDr0rFwSPofxNRQac4h0H_",
     "timestamp": 1706379738314
    }
   ]
  }
 },
 "nbformat": 4,
 "nbformat_minor": 0
}
